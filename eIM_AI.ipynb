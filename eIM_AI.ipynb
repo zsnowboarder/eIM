{
 "cells": [
  {
   "cell_type": "code",
   "execution_count": 1,
   "id": "e8be073f-7d33-4030-9f8d-ae5b02ddc94b",
   "metadata": {},
   "outputs": [
    {
     "name": "stderr",
     "output_type": "stream",
     "text": [
      "2024-11-11 13:33:31.942 \n",
      "  \u001b[33m\u001b[1mWarning:\u001b[0m to view this Streamlit app on a browser, run it with the following\n",
      "  command:\n",
      "\n",
      "    streamlit run C:\\Users\\zsnow\\anaconda3\\Lib\\site-packages\\ipykernel_launcher.py [ARGUMENTS]\n"
     ]
    },
    {
     "ename": "FileNotFoundError",
     "evalue": "No secrets files found. Valid paths for a secrets.toml file are: C:\\Users\\zsnow\\.streamlit\\secrets.toml, C:\\Users\\zsnow\\Documents\\Machine Learning\\Project\\eIM\\eIM_AI\\.streamlit\\secrets.toml",
     "output_type": "error",
     "traceback": [
      "\u001b[1;31m---------------------------------------------------------------------------\u001b[0m",
      "\u001b[1;31mFileNotFoundError\u001b[0m                         Traceback (most recent call last)",
      "Cell \u001b[1;32mIn[1], line 25\u001b[0m\n\u001b[0;32m     22\u001b[0m     endpoint_name \u001b[38;5;241m=\u001b[39m \u001b[38;5;124m\"\u001b[39m\u001b[38;5;124mprojects/1067800176405/locations/us-central1/endpoints/7477014419923271680\u001b[39m\u001b[38;5;124m\"\u001b[39m\n\u001b[0;32m     23\u001b[0m     model_id \u001b[38;5;241m=\u001b[39m \u001b[38;5;124m\"\u001b[39m\u001b[38;5;124mgemma-1_1-2b-it-1731279494640\u001b[39m\u001b[38;5;124m\"\u001b[39m\n\u001b[1;32m---> 25\u001b[0m initialize_vertex_client()\n\u001b[0;32m     27\u001b[0m \u001b[38;5;66;03m# Set up Streamlit app UI\u001b[39;00m\n\u001b[0;32m     28\u001b[0m st\u001b[38;5;241m.\u001b[39mtitle(\u001b[38;5;124m\"\u001b[39m\u001b[38;5;124mGemini Pro Prompt with Streamlit\u001b[39m\u001b[38;5;124m\"\u001b[39m)\n",
      "Cell \u001b[1;32mIn[1], line 10\u001b[0m, in \u001b[0;36minitialize_vertex_client\u001b[1;34m()\u001b[0m\n\u001b[0;32m      6\u001b[0m \u001b[38;5;28;01mdef\u001b[39;00m \u001b[38;5;21minitialize_vertex_client\u001b[39m():\n\u001b[0;32m      7\u001b[0m     \u001b[38;5;66;03m# Build the credentials from Streamlit secrets\u001b[39;00m\n\u001b[0;32m      8\u001b[0m     credentials \u001b[38;5;241m=\u001b[39m service_account\u001b[38;5;241m.\u001b[39mCredentials\u001b[38;5;241m.\u001b[39mfrom_service_account_info({\n\u001b[0;32m      9\u001b[0m         \u001b[38;5;124m\"\u001b[39m\u001b[38;5;124mtype\u001b[39m\u001b[38;5;124m\"\u001b[39m: \u001b[38;5;124m\"\u001b[39m\u001b[38;5;124mservice_account\u001b[39m\u001b[38;5;124m\"\u001b[39m,\n\u001b[1;32m---> 10\u001b[0m         \u001b[38;5;124m\"\u001b[39m\u001b[38;5;124mproject_id\u001b[39m\u001b[38;5;124m\"\u001b[39m: st\u001b[38;5;241m.\u001b[39msecrets[\u001b[38;5;124m\"\u001b[39m\u001b[38;5;124mGOOGLE_PROJECT_ID\u001b[39m\u001b[38;5;124m\"\u001b[39m],\n\u001b[0;32m     11\u001b[0m         \u001b[38;5;124m\"\u001b[39m\u001b[38;5;124mprivate_key_id\u001b[39m\u001b[38;5;124m\"\u001b[39m: st\u001b[38;5;241m.\u001b[39msecrets[\u001b[38;5;124m\"\u001b[39m\u001b[38;5;124mGOOGLE_PRIVATE_KEY_ID\u001b[39m\u001b[38;5;124m\"\u001b[39m],\n\u001b[0;32m     12\u001b[0m         \u001b[38;5;124m\"\u001b[39m\u001b[38;5;124mprivate_key\u001b[39m\u001b[38;5;124m\"\u001b[39m: st\u001b[38;5;241m.\u001b[39msecrets[\u001b[38;5;124m\"\u001b[39m\u001b[38;5;124mGOOGLE_PRIVATE_KEY\u001b[39m\u001b[38;5;124m\"\u001b[39m]\u001b[38;5;241m.\u001b[39mreplace(\u001b[38;5;124m\"\u001b[39m\u001b[38;5;130;01m\\\\\u001b[39;00m\u001b[38;5;124mn\u001b[39m\u001b[38;5;124m\"\u001b[39m, \u001b[38;5;124m\"\u001b[39m\u001b[38;5;130;01m\\n\u001b[39;00m\u001b[38;5;124m\"\u001b[39m),\n\u001b[0;32m     13\u001b[0m         \u001b[38;5;124m\"\u001b[39m\u001b[38;5;124mclient_email\u001b[39m\u001b[38;5;124m\"\u001b[39m: st\u001b[38;5;241m.\u001b[39msecrets[\u001b[38;5;124m\"\u001b[39m\u001b[38;5;124mGOOGLE_CLIENT_EMAIL\u001b[39m\u001b[38;5;124m\"\u001b[39m],\n\u001b[0;32m     14\u001b[0m         \u001b[38;5;124m\"\u001b[39m\u001b[38;5;124mclient_id\u001b[39m\u001b[38;5;124m\"\u001b[39m: st\u001b[38;5;241m.\u001b[39msecrets[\u001b[38;5;124m\"\u001b[39m\u001b[38;5;124mGOOGLE_CLIENT_ID\u001b[39m\u001b[38;5;124m\"\u001b[39m],\n\u001b[0;32m     15\u001b[0m         \u001b[38;5;124m\"\u001b[39m\u001b[38;5;124mauth_uri\u001b[39m\u001b[38;5;124m\"\u001b[39m: st\u001b[38;5;241m.\u001b[39msecrets[\u001b[38;5;124m\"\u001b[39m\u001b[38;5;124mGOOGLE_AUTH_URI\u001b[39m\u001b[38;5;124m\"\u001b[39m],\n\u001b[0;32m     16\u001b[0m         \u001b[38;5;124m\"\u001b[39m\u001b[38;5;124mtoken_uri\u001b[39m\u001b[38;5;124m\"\u001b[39m: st\u001b[38;5;241m.\u001b[39msecrets[\u001b[38;5;124m\"\u001b[39m\u001b[38;5;124mGOOGLE_TOKEN_URI\u001b[39m\u001b[38;5;124m\"\u001b[39m],\n\u001b[0;32m     17\u001b[0m         \u001b[38;5;124m\"\u001b[39m\u001b[38;5;124mauth_provider_x509_cert_url\u001b[39m\u001b[38;5;124m\"\u001b[39m: st\u001b[38;5;241m.\u001b[39msecrets[\u001b[38;5;124m\"\u001b[39m\u001b[38;5;124mGOOGLE_AUTH_PROVIDER_X509_CERT_URL\u001b[39m\u001b[38;5;124m\"\u001b[39m],\n\u001b[0;32m     18\u001b[0m         \u001b[38;5;124m\"\u001b[39m\u001b[38;5;124mclient_x509_cert_url\u001b[39m\u001b[38;5;124m\"\u001b[39m: st\u001b[38;5;241m.\u001b[39msecrets[\u001b[38;5;124m\"\u001b[39m\u001b[38;5;124mGOOGLE_CLIENT_X509_CERT_URL\u001b[39m\u001b[38;5;124m\"\u001b[39m],\n\u001b[0;32m     19\u001b[0m     })\n\u001b[0;32m     20\u001b[0m     aiplatform\u001b[38;5;241m.\u001b[39minit(credentials\u001b[38;5;241m=\u001b[39mcredentials, project\u001b[38;5;241m=\u001b[39mst\u001b[38;5;241m.\u001b[39msecrets[\u001b[38;5;124m\"\u001b[39m\u001b[38;5;124mGOOGLE_PROJECT_ID\u001b[39m\u001b[38;5;124m\"\u001b[39m])\n\u001b[0;32m     21\u001b[0m     \u001b[38;5;66;03m# Define your endpoint name and model ID\u001b[39;00m\n",
      "File \u001b[1;32m~\\anaconda3\\Lib\\site-packages\\streamlit\\runtime\\secrets.py:305\u001b[0m, in \u001b[0;36mSecrets.__getitem__\u001b[1;34m(self, key)\u001b[0m\n\u001b[0;32m    299\u001b[0m \u001b[38;5;250m\u001b[39m\u001b[38;5;124;03m\"\"\"Return the value with the given key. If no such key\u001b[39;00m\n\u001b[0;32m    300\u001b[0m \u001b[38;5;124;03mexists, raise a KeyError.\u001b[39;00m\n\u001b[0;32m    301\u001b[0m \n\u001b[0;32m    302\u001b[0m \u001b[38;5;124;03mThread-safe.\u001b[39;00m\n\u001b[0;32m    303\u001b[0m \u001b[38;5;124;03m\"\"\"\u001b[39;00m\n\u001b[0;32m    304\u001b[0m \u001b[38;5;28;01mtry\u001b[39;00m:\n\u001b[1;32m--> 305\u001b[0m     value \u001b[38;5;241m=\u001b[39m \u001b[38;5;28mself\u001b[39m\u001b[38;5;241m.\u001b[39m_parse(\u001b[38;5;28;01mTrue\u001b[39;00m)[key]\n\u001b[0;32m    306\u001b[0m     \u001b[38;5;28;01mif\u001b[39;00m \u001b[38;5;129;01mnot\u001b[39;00m \u001b[38;5;28misinstance\u001b[39m(value, Mapping):\n\u001b[0;32m    307\u001b[0m         \u001b[38;5;28;01mreturn\u001b[39;00m value\n",
      "File \u001b[1;32m~\\anaconda3\\Lib\\site-packages\\streamlit\\runtime\\secrets.py:214\u001b[0m, in \u001b[0;36mSecrets._parse\u001b[1;34m(self, print_exceptions)\u001b[0m\n\u001b[0;32m    212\u001b[0m     \u001b[38;5;28;01mif\u001b[39;00m print_exceptions:\n\u001b[0;32m    213\u001b[0m         st\u001b[38;5;241m.\u001b[39merror(err_msg)\n\u001b[1;32m--> 214\u001b[0m     \u001b[38;5;28;01mraise\u001b[39;00m \u001b[38;5;167;01mFileNotFoundError\u001b[39;00m(err_msg)\n\u001b[0;32m    216\u001b[0m \u001b[38;5;28;01mif\u001b[39;00m \u001b[38;5;28mlen\u001b[39m([p \u001b[38;5;28;01mfor\u001b[39;00m p \u001b[38;5;129;01min\u001b[39;00m \u001b[38;5;28mself\u001b[39m\u001b[38;5;241m.\u001b[39m_file_paths \u001b[38;5;28;01mif\u001b[39;00m os\u001b[38;5;241m.\u001b[39mpath\u001b[38;5;241m.\u001b[39mexists(p)]) \u001b[38;5;241m>\u001b[39m \u001b[38;5;241m1\u001b[39m:\n\u001b[0;32m    217\u001b[0m     _LOGGER\u001b[38;5;241m.\u001b[39minfo(\n\u001b[0;32m    218\u001b[0m         \u001b[38;5;124mf\u001b[39m\u001b[38;5;124m\"\u001b[39m\u001b[38;5;124mSecrets found in multiple locations: \u001b[39m\u001b[38;5;132;01m{\u001b[39;00m\u001b[38;5;124m'\u001b[39m\u001b[38;5;124m, \u001b[39m\u001b[38;5;124m'\u001b[39m\u001b[38;5;241m.\u001b[39mjoin(\u001b[38;5;28mself\u001b[39m\u001b[38;5;241m.\u001b[39m_file_paths)\u001b[38;5;132;01m}\u001b[39;00m\u001b[38;5;124m. \u001b[39m\u001b[38;5;124m\"\u001b[39m\n\u001b[0;32m    219\u001b[0m         \u001b[38;5;124m\"\u001b[39m\u001b[38;5;124mWhen multiple secret.toml files exist, local secrets will take precedence over global secrets.\u001b[39m\u001b[38;5;124m\"\u001b[39m\n\u001b[0;32m    220\u001b[0m     )\n",
      "\u001b[1;31mFileNotFoundError\u001b[0m: No secrets files found. Valid paths for a secrets.toml file are: C:\\Users\\zsnow\\.streamlit\\secrets.toml, C:\\Users\\zsnow\\Documents\\Machine Learning\\Project\\eIM\\eIM_AI\\.streamlit\\secrets.toml"
     ]
    }
   ],
   "source": [
    "import streamlit as st\n",
    "from google.cloud import aiplatform\n",
    "from google.oauth2 import service_account\n",
    "\n",
    "# Authenticate using secrets in Streamlit Cloud\n",
    "def initialize_vertex_client():\n",
    "    # Build the credentials from Streamlit secrets\n",
    "    credentials = service_account.Credentials.from_service_account_info({\n",
    "        \"type\": \"service_account\",\n",
    "        \"project_id\": st.secrets[\"GOOGLE_PROJECT_ID\"],\n",
    "        \"private_key_id\": st.secrets[\"GOOGLE_PRIVATE_KEY_ID\"],\n",
    "        \"private_key\": st.secrets[\"GOOGLE_PRIVATE_KEY\"].replace(\"\\\\n\", \"\\n\"),\n",
    "        \"client_email\": st.secrets[\"GOOGLE_CLIENT_EMAIL\"],\n",
    "        \"client_id\": st.secrets[\"GOOGLE_CLIENT_ID\"],\n",
    "        \"auth_uri\": st.secrets[\"GOOGLE_AUTH_URI\"],\n",
    "        \"token_uri\": st.secrets[\"GOOGLE_TOKEN_URI\"],\n",
    "        \"auth_provider_x509_cert_url\": st.secrets[\"GOOGLE_AUTH_PROVIDER_X509_CERT_URL\"],\n",
    "        \"client_x509_cert_url\": st.secrets[\"GOOGLE_CLIENT_X509_CERT_URL\"],\n",
    "    })\n",
    "    aiplatform.init(credentials=credentials, project=st.secrets[\"GOOGLE_PROJECT_ID\"])\n",
    "    # Define your endpoint name and model ID\n",
    "    endpoint_name = \"projects/1067800176405/locations/us-central1/endpoints/7477014419923271680\"\n",
    "    model_id = \"gemma-1_1-2b-it-1731279494640\"\n",
    "\n",
    "initialize_vertex_client()\n",
    "\n",
    "# Set up Streamlit app UI\n",
    "st.title(\"Gemini Pro Prompt with Streamlit\")\n",
    "user_input = st.text_input(\"Enter text for Gemini Prompt:\")\n",
    "\n",
    "# Function to call the Gemini Pro model\n",
    "def call_gemini_pro(text):\n",
    "    # Initialize the endpoint\n",
    "    endpoint = aiplatform.Endpoint(endpoint_name=endpoint_name)\n",
    "    # Define the input as required by the prompt\n",
    "    response = endpoint.predict(instances=[{\"content\": text}], parameters={\"temperature\": 0.7})\n",
    "    return response.predictions[0] if response.predictions else \"No response\"\n",
    "\n",
    "# Display result when button is clicked\n",
    "if st.button(\"Generate Response\"):\n",
    "    if user_input:\n",
    "        result = call_gemini_pro(user_input)\n",
    "        st.write(result)\n",
    "    else:\n",
    "        st.warning(\"Please enter text.\")\n"
   ]
  },
  {
   "cell_type": "code",
   "execution_count": null,
   "id": "e155c568-6d76-4518-994b-081fe1dcd4a4",
   "metadata": {},
   "outputs": [],
   "source": []
  }
 ],
 "metadata": {
  "kernelspec": {
   "display_name": "Python 3 (ipykernel)",
   "language": "python",
   "name": "python3"
  },
  "language_info": {
   "codemirror_mode": {
    "name": "ipython",
    "version": 3
   },
   "file_extension": ".py",
   "mimetype": "text/x-python",
   "name": "python",
   "nbconvert_exporter": "python",
   "pygments_lexer": "ipython3",
   "version": "3.11.7"
  }
 },
 "nbformat": 4,
 "nbformat_minor": 5
}
